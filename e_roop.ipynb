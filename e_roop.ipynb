{
  "nbformat": 4,
  "nbformat_minor": 0,
  "metadata": {
    "colab": {
      "provenance": [],
      "gpuType": "T4"
    },
    "kernelspec": {
      "name": "python3",
      "display_name": "Python 3"
    },
    "language_info": {
      "name": "python"
    },
    "accelerator": "GPU"
  },
  "cells": [
    {
      "cell_type": "code",
      "source": [
        "# @title Install from Internet\n",
        "from IPython.display import clear_output\n",
        "#!pip install https://github.com/karaokenerds/python-audio-separator/releases/download/v0.12.1/onnxruntime_gpu-1.17.0-cp310-cp310-linux_x86_64.whl\n",
        "!pip install onnxruntime_gpu\n",
        "!git clone  https://github.com/epg900/face.git\n",
        "!cp ./face/roop.zip  ./roop.zip\n",
        "!unzip roop.zip\n",
        "!wget https://github.com/TencentARC/GFPGAN/releases/download/v1.3.4/GFPGANv1.4.pth\n",
        "!mkdir /content/roop/models\n",
        "!mkdir /content/roop/checkpoints\n",
        "!cp  GFPGANv1.4.pth /content/roop/models/GFPGANv1.4.pth\n",
        "!wget https://huggingface.co/countfloyd/deepfake/resolve/main/inswapper_128.onnx -O /content/roop/checkpoints/inswapper_128.onnx\n",
        "!pip install -r /content/roop/requirements-colab.txt\n",
        "clear_output()"
      ],
      "metadata": {
        "cellView": "form",
        "id": "HaAWCdBRymvG"
      },
      "execution_count": 1,
      "outputs": []
    },
    {
      "cell_type": "code",
      "source": [
        "# @title Install from Google Drive\n",
        "from google.colab import drive\n",
        "drive.mount('/content/drive')\n",
        "from IPython.display import clear_output\n",
        "!pip install /content/drive/MyDrive/RoopFaceSwap_Backup/onnxruntime_gpu-1.17.0-cp310-cp310-linux_x86_64.whl\n",
        "!cp /content/drive/MyDrive/RoopFaceSwap_Backup/roop.zip roop.zip\n",
        "!unzip  roop.zip\n",
        "!mkdir /content/roop/models\n",
        "!mkdir /content/roop/checkpoints\n",
        "!cp  /content/drive/MyDrive/RoopFaceSwap_Backup/GFPGANv1.4.pth /content/roop/models/GFPGANv1.4.pth\n",
        "!cp /content/drive/MyDrive/RoopFaceSwap_Backup/inswapper_128.onnx /content/roop/checkpoints/inswapper_128.onnx\n",
        "!pip install -r /content/roop/requirements-colab.txt\n",
        "clear_output()"
      ],
      "metadata": {
        "cellView": "form",
        "id": "R5_QR-YqPHfj"
      },
      "execution_count": null,
      "outputs": []
    },
    {
      "cell_type": "code",
      "source": [
        "# @title Image FaceSwap\n",
        "from google.colab import files\n",
        "mainfile = files.upload()\n",
        "mf = list(mainfile)[0]\n",
        "uploaded = files.upload()\n",
        "filenames = uploaded.keys()\n",
        "\n",
        "for i, f in enumerate(filenames):\n",
        "  !python /content/roop/run.py -s \"/content/{mf}\" -t \"/content/{f}\" -o \"/content/a_{f}\"  --reference-face-position 0 --execution-threads 14  --execution-provider cuda --frame-processor face_swapper face_enhancer --max-memory 46\n",
        "\n"
      ],
      "metadata": {
        "cellView": "form",
        "id": "ligYFVJ8hrHU"
      },
      "execution_count": null,
      "outputs": []
    },
    {
      "cell_type": "code",
      "source": [
        "# @title Video FaceSwap (Image : 1.jpg , Video : 1.mp4 , output : roop.mp4)\n",
        "!python /content/roop/run.py  --source /content/1.jpg --target /content/1.mp4 -o /content/roop.mp4 --reference-face-position 0 --keep-fps --execution-provider cuda --frame-processor face_swapper  face_enhancer"
      ],
      "metadata": {
        "cellView": "form",
        "id": "4KD-pt7R5pEu"
      },
      "execution_count": null,
      "outputs": []
    },
    {
      "cell_type": "code",
      "source": [
        "# @title Download Youtube Video\n",
        "addr = \"\" # @param {type:\"string\"}\n",
        "!pip install yt-dlp\n",
        "!yt-dlp -f 18 -o a.mp4 {addr}\n",
        "clear_output()"
      ],
      "metadata": {
        "cellView": "form",
        "id": "_ljvNudrDptO"
      },
      "execution_count": null,
      "outputs": []
    }
  ]
}
