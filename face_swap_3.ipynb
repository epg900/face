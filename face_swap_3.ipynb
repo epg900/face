{
  "nbformat": 4,
  "nbformat_minor": 0,
  "metadata": {
    "colab": {
      "provenance": []
    },
    "kernelspec": {
      "name": "python3",
      "display_name": "Python 3"
    },
    "language_info": {
      "name": "python"
    }
  },
  "cells": [
    {
      "cell_type": "code",
      "source": [
        "# @title Install and Setup - Upload Files\n",
        "!pip install onnx onnxruntime opencv-python insightface gdown tqdm\n",
        "\n",
        "import datetime\n",
        "import numpy as np\n",
        "import os\n",
        "import os.path as osp\n",
        "import glob\n",
        "import cv2\n",
        "import insightface\n",
        "from insightface.app import FaceAnalysis\n",
        "from insightface.data import get_image as ins_get_image\n",
        "import matplotlib.pyplot as plt\n",
        "import gdown\n",
        "from PIL import Image\n",
        "from google.colab import files\n",
        "from IPython.display import clear_output\n",
        "from tqdm import tqdm\n",
        "\n",
        "def upload_files():\n",
        "    uploaded = files.upload()\n",
        "    return list(uploaded.keys())\n",
        "\n",
        "#/root/.insightface/models/buffalo_l.zip\n",
        "app = FaceAnalysis(name='buffalo_l')\n",
        "app.prepare(ctx_id=0, det_size=(640, 640))\n",
        "# Import the library\n",
        "import gdown\n",
        "\n",
        "# Google Drive file ID\n",
        "file_id = '1krOLgjW2tAPaqV-Bw4YALz0xT5zlb5HF'\n",
        "# Construct the download URL\n",
        "url = f'https://drive.google.com/uc?id={file_id}'\n",
        "# Download the file\n",
        "gdown.download(url, 'inswapper_128.onnx', quiet=False)\n",
        "\n",
        "swapper = insightface.model_zoo.get_model('inswapper_128.onnx',download=False,download_zip=False)\n",
        "\n",
        "os.system(\"mkdir output\")\n",
        "os.system(\"mkdir frame\")\n",
        "clear_output()\n",
        "\n",
        "face_image = upload_files()\n",
        "image_files = upload_files()\n",
        "\n",
        "clear_output()"
      ],
      "metadata": {
        "id": "pROzTvAo9tau",
        "cellView": "form"
      },
      "execution_count": 1,
      "outputs": []
    },
    {
      "cell_type": "code",
      "source": [
        "# @title Run FaceSwap\n",
        "def faceswapdir(face_image,path=\".\"):\n",
        "  img1 = cv2.imread(face_image)\n",
        "  lst = os.listdir(path)\n",
        "  lst.sort()\n",
        "  img_lst = [cv2.imread(f\"{path}/{img}\") for img in lst]\n",
        "  base_face = app.get(img1)[0]\n",
        "  face_lst =[app.get(face)[0] for face in img_lst]\n",
        "  out_img = [swapper.get(swap.copy(), face_lst[i], base_face, paste_back=True) for i,swap in enumerate(tqdm(img_lst, desc=\"Please Wait\"))]\n",
        "  swapped_img1_rgb = [cv2.cvtColor(swapped, cv2.COLOR_BGR2RGB) for swapped in out_img]\n",
        "\n",
        "  for i,swapped2 in enumerate(swapped_img1_rgb):\n",
        "    Image.fromarray(np.uint8(swapped2)).save(f\"output/{i+1:06}.jpg\")\n",
        "\n",
        "\n",
        "#faceswap(face_image[0],image_files,\"/content/frame2\")\n"
      ],
      "metadata": {
        "id": "11v4HI5W-Olj",
        "cellView": "form"
      },
      "execution_count": 58,
      "outputs": []
    },
    {
      "cell_type": "code",
      "source": [
        "# @title Only face upload\n",
        "face_image = upload_files()\n",
        "print('insightface', insightface.__version__)\n",
        "print('numpy', np.__version__)\n",
        "\n",
        "# Check that InsightFace version is at least 0.7\n",
        "assert float('.'.join(insightface.__version__.split('.')[:2])) >= float('0.7')"
      ],
      "metadata": {
        "id": "EJCalOKR9MmQ",
        "cellView": "form"
      },
      "execution_count": null,
      "outputs": []
    },
    {
      "cell_type": "code",
      "source": [
        "# @title Only images upload\n",
        "image_files = upload_files()\n"
      ],
      "metadata": {
        "id": "Ju2Tx3UKVlu2",
        "cellView": "form"
      },
      "execution_count": null,
      "outputs": []
    },
    {
      "cell_type": "code",
      "source": [
        "!ffmpeg -hide_banner -loglevel error -i sample.mov -vcodec h264 -acodec aac sample.mp4"
      ],
      "metadata": {
        "id": "vQuNau3YeVwg"
      },
      "execution_count": null,
      "outputs": []
    },
    {
      "cell_type": "code",
      "source": [
        "!ffmpeg -hide_banner -loglevel error  -i sample.mp4 -q:a 0 -map a sample.mp3"
      ],
      "metadata": {
        "id": "EQgxtGtnnGwZ"
      },
      "execution_count": null,
      "outputs": []
    },
    {
      "cell_type": "code",
      "source": [
        "!ffmpeg -hide_banner -loglevel error  -hwaccel auto -i sample.mp4 -q:v 18 -pix_fmt rgb24 -vf fps=30  /content/frame/%06d.jpg"
      ],
      "metadata": {
        "id": "Ru4Ze_iUrIc-"
      },
      "execution_count": null,
      "outputs": []
    },
    {
      "cell_type": "code",
      "source": [
        "faceswapdir(face_image[0],\"/content/frame\")"
      ],
      "metadata": {
        "id": "xhlA5Vc25H28"
      },
      "execution_count": null,
      "outputs": []
    },
    {
      "cell_type": "code",
      "source": [
        "!ffmpeg -hide_banner -loglevel error  -hwaccel auto -r 30 -i /content/output/%06d.jpg -vcodec libx264 -crf 18  -pix_fmt yuv420p   video.mp4"
      ],
      "metadata": {
        "id": "vq8I8ymGmec9"
      },
      "execution_count": null,
      "outputs": []
    },
    {
      "cell_type": "code",
      "source": [
        "!ffmpeg -hide_banner -loglevel error  -i video.mp4 -i audio.wav -c:v copy -c:a aac output.mp4"
      ],
      "metadata": {
        "id": "mVw5ycDbZ3lW"
      },
      "execution_count": null,
      "outputs": []
    },
    {
      "cell_type": "code",
      "source": [
        "# @title Remove all files  from frame/output folder\n",
        "!rm -r /content/frame\n",
        "!rm -r /content/output\n",
        "!mkdir /content/output\n",
        "!mkdir /content/frame"
      ],
      "metadata": {
        "cellView": "form",
        "id": "q_9ZjEEP2VIf"
      },
      "execution_count": 52,
      "outputs": []
    }
  ]
}