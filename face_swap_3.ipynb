{
  "nbformat": 4,
  "nbformat_minor": 0,
  "metadata": {
    "colab": {
      "provenance": []
    },
    "kernelspec": {
      "name": "python3",
      "display_name": "Python 3"
    },
    "language_info": {
      "name": "python"
    }
  },
  "cells": [
    {
      "cell_type": "code",
      "source": [
        "# @title Install and Setup - Upload Files\n",
        "!pip install onnx onnxruntime opencv-python insightface gdown tqdm\n",
        "\n",
        "import datetime\n",
        "import numpy as np\n",
        "import os\n",
        "import os.path as osp\n",
        "import glob\n",
        "import cv2\n",
        "import insightface\n",
        "from insightface.app import FaceAnalysis\n",
        "from insightface.data import get_image as ins_get_image\n",
        "import matplotlib.pyplot as plt\n",
        "import gdown\n",
        "from PIL import Image\n",
        "from google.colab import files\n",
        "from IPython.display import clear_output\n",
        "from tqdm import tqdm\n",
        "\n",
        "def upload_files():\n",
        "    uploaded = files.upload()\n",
        "    return list(uploaded.keys())\n",
        "\n",
        "#/root/.insightface/models/buffalo_l.zip\n",
        "app = FaceAnalysis(name='buffalo_l')\n",
        "app.prepare(ctx_id=0, det_size=(640, 640))\n",
        "# Import the library\n",
        "import gdown\n",
        "\n",
        "# Google Drive file ID\n",
        "file_id = '1krOLgjW2tAPaqV-Bw4YALz0xT5zlb5HF'\n",
        "# Construct the download URL\n",
        "url = f'https://drive.google.com/uc?id={file_id}'\n",
        "# Download the file\n",
        "gdown.download(url, 'inswapper_128.onnx', quiet=False)\n",
        "\n",
        "swapper = insightface.model_zoo.get_model('inswapper_128.onnx',download=False,download_zip=False)\n",
        "\n",
        "os.system(\"mkdir output\")\n",
        "os.system(\"mkdir frame\")\n",
        "clear_output()\n",
        "\n",
        "face_image = upload_files()\n",
        "image_files = upload_files()\n",
        "\n",
        "clear_output()"
      ],
      "metadata": {
        "id": "pROzTvAo9tau",
        "cellView": "form"
      },
      "execution_count": 1,
      "outputs": []
    },
    {
      "cell_type": "code",
      "source": [
        "# @title Run FaceSwap\n",
        "def faceswap(face_image,image_files,path=\".\",directory=\".\"):\n",
        "  img1 = cv2.imread(face_image)\n",
        "  img_lst = [cv2.imread(path + \"/\" + img) for img in image_files]\n",
        "  base_face = app.get(img1)[0]\n",
        "  face_lst =[app.get(face)[0] for face in img_lst]\n",
        "  out_img = [swapper.get(swap.copy(), face_lst[i], base_face, paste_back=True) for i,swap in enumerate(tqdm(img_lst, desc=\"Please Wait\"))]\n",
        "  swapped_img1_rgb = [cv2.cvtColor(swapped, cv2.COLOR_BGR2RGB) for swapped in out_img]\n",
        "\n",
        "  for i,swapped2 in enumerate(swapped_img1_rgb):\n",
        "    Image.fromarray(np.uint8(swapped2)).save(f\"{directory}/{i:06}.jpg\")\n",
        "\n",
        "def faceswapdir(face_image,path=\".\"):\n",
        "  img1 = cv2.imread(face_image)\n",
        "  img_lst = [cv2.imread(f\"{path}/{img}\") for img in os.listdir(path)]\n",
        "  base_face = app.get(img1)[0]\n",
        "  face_lst =[app.get(face)[0] for face in img_lst]\n",
        "  out_img = [swapper.get(swap.copy(), face_lst[i], base_face, paste_back=True) for i,swap in enumerate(tqdm(img_lst, desc=\"Please Wait\"))]\n",
        "  swapped_img1_rgb = [cv2.cvtColor(swapped, cv2.COLOR_BGR2RGB) for swapped in out_img]\n",
        "\n",
        "  for i,swapped2 in enumerate(swapped_img1_rgb):\n",
        "    Image.fromarray(np.uint8(swapped2)).save(f\"output/{i:06}.jpg\")\n",
        "\n",
        "\n",
        "#faceswap(face_image[0],image_files,\"/content/frame2\")\n"
      ],
      "metadata": {
        "id": "11v4HI5W-Olj",
        "cellView": "form"
      },
      "execution_count": 4,
      "outputs": []
    },
    {
      "cell_type": "code",
      "source": [
        "# @title Only face upload\n",
        "face_image = upload_files()\n",
        "print('insightface', insightface.__version__)\n",
        "print('numpy', np.__version__)\n",
        "\n",
        "# Check that InsightFace version is at least 0.7\n",
        "assert float('.'.join(insightface.__version__.split('.')[:2])) >= float('0.7')"
      ],
      "metadata": {
        "id": "EJCalOKR9MmQ",
        "cellView": "form"
      },
      "execution_count": null,
      "outputs": []
    },
    {
      "cell_type": "code",
      "source": [
        "# @title Only images upload\n",
        "image_files = upload_files()\n"
      ],
      "metadata": {
        "id": "Ju2Tx3UKVlu2",
        "cellView": "form"
      },
      "execution_count": null,
      "outputs": []
    },
    {
      "cell_type": "code",
      "source": [
        "face_image"
      ],
      "metadata": {
        "id": "Zw4fxYCAAasz"
      },
      "execution_count": null,
      "outputs": []
    },
    {
      "cell_type": "code",
      "source": [
        "!ffmpeg -i sample.mov -vcodec h264 -acodec aac sample.mp4"
      ],
      "metadata": {
        "id": "vQuNau3YeVwg"
      },
      "execution_count": null,
      "outputs": []
    },
    {
      "cell_type": "code",
      "source": [
        "!ffmpeg -i sample.mp4 -q:a 0 -map a sample.mp3"
      ],
      "metadata": {
        "id": "EQgxtGtnnGwZ"
      },
      "execution_count": null,
      "outputs": []
    },
    {
      "cell_type": "code",
      "source": [
        "!ffmpeg -i sample.mp4 -q:v 2 frame/%06d.jpg"
      ],
      "metadata": {
        "id": "gSyPUq4WZ3DG"
      },
      "execution_count": null,
      "outputs": []
    },
    {
      "cell_type": "code",
      "source": [
        "faceswapdir(face_image[0],\"/content/frame\")"
      ],
      "metadata": {
        "id": "xhlA5Vc25H28"
      },
      "execution_count": null,
      "outputs": []
    },
    {
      "cell_type": "code",
      "source": [
        "!ffmpeg -f image2 -framerate 30 -i frame/%06d.jpg -c:v libx264 out.mp4"
      ],
      "metadata": {
        "id": "0mnfJXb2Z3WO"
      },
      "execution_count": null,
      "outputs": []
    },
    {
      "cell_type": "code",
      "source": [
        "!ffmpeg -i video.mp4 -i audio.wav -c:v copy -c:a aac output.mp4"
      ],
      "metadata": {
        "id": "mVw5ycDbZ3lW"
      },
      "execution_count": null,
      "outputs": []
    },
    {
      "cell_type": "code",
      "source": [
        "!ffmpeg -copyts -ss 00:00:01 -i sample.mp4 -to 00:00:03 -map 0 -c copy out.mp4"
      ],
      "metadata": {
        "id": "Ywkxj0X5tMfX"
      },
      "execution_count": null,
      "outputs": []
    },
    {
      "cell_type": "code",
      "source": [
        "for file in os.listdir('/content/frame'):\n",
        "  os.remove(f'/content/frame/{file}')\n",
        "for file in os.listdir('/content/output'):\n",
        "  os.remove(f'/content/output/{file}')"
      ],
      "metadata": {
        "id": "nUtddw9HhNjH"
      },
      "execution_count": 8,
      "outputs": []
    }
  ]
}